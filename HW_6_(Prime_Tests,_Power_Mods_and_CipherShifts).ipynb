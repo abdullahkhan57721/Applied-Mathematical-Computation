{
  "nbformat": 4,
  "nbformat_minor": 0,
  "metadata": {
    "colab": {
      "provenance": [],
      "authorship_tag": "ABX9TyPPz+TPnaYt6rVZZBrziuJh",
      "include_colab_link": true
    },
    "kernelspec": {
      "name": "python3",
      "display_name": "Python 3"
    },
    "language_info": {
      "name": "python"
    }
  },
  "cells": [
    {
      "cell_type": "markdown",
      "metadata": {
        "id": "view-in-github",
        "colab_type": "text"
      },
      "source": [
        "<a href=\"https://colab.research.google.com/github/abdullahkhan57721/Applied-Mathematical-Computation/blob/main/HW_6_(Prime_Tests%2C_Power_Mods_and_CipherShifts).ipynb\" target=\"_parent\"><img src=\"https://colab.research.google.com/assets/colab-badge.svg\" alt=\"Open In Colab\"/></a>"
      ]
    },
    {
      "cell_type": "code",
      "source": [
        "import math\n",
        "import random\n",
        "import csv\n",
        "!pip install gmpy2 #gmpy2 gives very precise nth roots; example 1000**(1/3) = 9.99999999 but gmpy2.root(1000,3) = 10.0\n",
        "import gmpy2"
      ],
      "metadata": {
        "colab": {
          "base_uri": "https://localhost:8080/"
        },
        "id": "LXzNgzmGZO48",
        "outputId": "ebfd5d70-9508-42f2-b270-145cdb255faf"
      },
      "execution_count": null,
      "outputs": [
        {
          "output_type": "stream",
          "name": "stdout",
          "text": [
            "Looking in indexes: https://pypi.org/simple, https://us-python.pkg.dev/colab-wheels/public/simple/\n",
            "Requirement already satisfied: gmpy2 in /usr/local/lib/python3.10/dist-packages (2.1.5)\n"
          ]
        }
      ]
    },
    {
      "cell_type": "code",
      "source": [
        "#Question 2\n",
        "\n",
        "def PrimeTest(n): #Performs the prescribed primality test\n",
        "  second_root = math.floor(float(gmpy2.root(n, 2)))\n",
        "  third_root = math.floor(float(gmpy2.root(n, 3)))\n",
        "  second_root_list = []\n",
        "  for i in range(second_root): #Creates the list [0,...,n**(1/2)]\n",
        "    second_root_list.append(i+1)\n",
        "  sample = random.choices(second_root_list, k=int(third_root)) #Picks n**(1/3) elements from second_root_list at random\n",
        "  successes = 0 #Counter for FLT successes\n",
        "  for a in sample:\n",
        "    if a**(n-1) % n != 1:\n",
        "      print(\"The given number is not prime.\")\n",
        "      break #Stops checking at first instance of an FLT failure\n",
        "    else:\n",
        "      successes += 1\n",
        "  if successes == len(sample): #In case of no FLT failures\n",
        "    print(\"More tests needed to confirm if the given number is prime.\")\n",
        "\n",
        "PrimeTest(15)\n",
        "PrimeTest(13)"
      ],
      "metadata": {
        "colab": {
          "base_uri": "https://localhost:8080/"
        },
        "id": "ggW-c-BIYKOp",
        "outputId": "9123ed4a-9a66-4540-a1da-a60f64f4f022"
      },
      "execution_count": null,
      "outputs": [
        {
          "output_type": "stream",
          "name": "stdout",
          "text": [
            "The given number is not prime.\n",
            "More tests needed to confirm if the given number is prime.\n"
          ]
        }
      ]
    },
    {
      "cell_type": "code",
      "source": [
        "#Question 3\n",
        "\n",
        "#The solutions to  x**2 - 1 % 35 == 0 are exactly the same as solutions to x**2 = 1 % 35\n",
        "#In particular, this implies that x has an inverse and so is coprime to 35 (except 1)\n",
        "#The solution candidate set must therefore be the set of coprimes to 35:\n",
        "\n",
        "candidate_set = set(range(35))-{5,10,15,20,25,30,7,14,21,28}\n",
        "solution_list = []\n",
        "for i in candidate_set:\n",
        "  if ((i**2 - 1) % 35) == 0:\n",
        "    solution_list.append(i)\n",
        "print(solution_list)\n",
        "\n",
        "#The solutions are: x = 1, 6, 29 and 34."
      ],
      "metadata": {
        "colab": {
          "base_uri": "https://localhost:8080/"
        },
        "id": "poxE5WLqDQ5W",
        "outputId": "89b5ecc9-8a25-4b9a-86ab-4c4f146c2b1d"
      },
      "execution_count": null,
      "outputs": [
        {
          "output_type": "stream",
          "name": "stdout",
          "text": [
            "[1, 6, 29, 34]\n"
          ]
        }
      ]
    },
    {
      "cell_type": "code",
      "source": [
        "#Question 4\n",
        "\n",
        "def DecimalToBinaryPowerList(decimal_number): #Returns list of powers of 2 in binary decomposition of a decimal number, e.g. 13=2**3+2**2+2**0 returns [3,2,0]\n",
        "  binary_power_list = []\n",
        "  difference = decimal_number\n",
        "  while difference != 0:\n",
        "    for i in range (100): #Big number; works for any reasonable input haha\n",
        "      if 2**i == difference:\n",
        "        binary_power_list.append(i)\n",
        "        difference = difference - 2**(i)\n",
        "        break\n",
        "      elif 2**i > difference:\n",
        "        binary_power_list.append(i-1)\n",
        "        difference = difference - 2**(i-1)\n",
        "        break\n",
        "  return binary_power_list\n",
        "\n",
        "def DecimalToBinary(decimal_number): #Not needed to answer Q4; returns the binary representation of a decimal number, e.g. 13 returns 1101\n",
        "  binary_power_list = DecimalToBinaryPowerList(decimal_number)\n",
        "  binary_representation = \"\"\n",
        "  for i in range(max(binary_power_list)+1):\n",
        "    if (max(binary_power_list)-i) in binary_power_list:\n",
        "      binary_representation += str(1)\n",
        "    else:\n",
        "      binary_representation += str(0)\n",
        "  return int(binary_representation)\n",
        "\n",
        "def PowerMod(a, n, m): #Returns a**n mod m efficiently, using the algorithm learned in class\n",
        "  binary_power_list = DecimalToBinary(n)\n",
        "  binary_decomposition_list = []\n",
        "  for i in binary_power_list:\n",
        "    binary_decomposition_list.append(2**i)\n",
        "  result = 1\n",
        "  for i in binary_decomposition_list:\n",
        "    result = (result * (a**i)) % m\n",
        "  return int(result)\n",
        "\n",
        "#DecimalToBinaryPowerList(131)\n",
        "#DecimalToBinary(131)\n",
        "#PowerModM(5, 131, 17)"
      ],
      "metadata": {
        "id": "nGEanKZp_8ua"
      },
      "execution_count": null,
      "outputs": []
    },
    {
      "cell_type": "code",
      "execution_count": null,
      "metadata": {
        "id": "vauWyKoBRbP0"
      },
      "outputs": [],
      "source": [
        "#Question 5\n",
        "\n",
        "def CaesarShift(text, shift): #Can be used to both encrypt to or decrypt from Caesar cipher\n",
        "  textlist = list(text) #Converting given text to list of characters to assign an index to each character\n",
        "  caesar_shift = \"\" #Will collect text after list has been Caesar shifted\n",
        "  natural_order = [\"a\", \"b\", \"c\", \"d\", \"e\", \"f\", \"g\", \"h\", \"i\" , \"j\", \"k\", \"l\", \"m\", \"n\", \"o\", \"p\", \"q\", \"r\", \"s\", \"t\", \"u\", \"v\", \"w\", \"x\", \"y\", \"z\"]\n",
        "\n",
        "  for character in textlist:\n",
        "    if character.lower() in natural_order: #Alphabet characters enter here for Caesar shifting; comparison to natural_order using lower-case\n",
        "      if character == character.lower(): #Separating lower and uppercase alphabets\n",
        "        caesar_shift += natural_order[(natural_order.index(character) + shift) % 26]\n",
        "      else:\n",
        "        caesar_shift += natural_order[(natural_order.index(character.lower()) + shift) % 26].upper()\n",
        "    else: #Non-alphabets characters enter here to come out unchanged\n",
        "      caesar_shift += character\n",
        "  return caesar_shift\n",
        "\n",
        "ciphertext = \"Z wzijk xfk kf befn Tfibp nyve Z trdv kf Evn Pfib. Yv nrj r grc fw dp tfljze Xljjzv, nyf nrj ze nzky r cfk fw gvfgcv ufne Nrjyzexkfe Jhlriv nrp. Z ufe’k befn zw Z vmvi kfcu pfl rsflk zk, slk kyv ivrjfe nyp Z cvwk Vexcreu nrj svtrljv Z nrj jvek fmvi sp dp Rlek Rxrkyr kf kip kf jkfg pflex Xljjzv driipzex r xzic fe kyv mrluvmzccv jkrxv, reu Z xfk kyv nyfcv kyzex jf dzovu lg kyrk Z uvtzuvu kyrk zk nflcu sv r jfleu jtyvdv wfi dv kf jkfg fe ze Rdviztr wfi r szk zejkvru fw xfzex srtb reu yrmzex cfex tfjp tyrkj rsflk kyv kyzex nzky rlek. Jf Z jvek Avvmvj flk kf wzeu r uvtvek rgrikdvek, reu jvkkcvu ufne wfi r szk fw vozcv. Z’d sfleu kf jrp kyrk Evn Pfib’j r kfggzex gcrtv kf sv vozcvu ze. Vmvipsfup nrj rnwlccp xffu kf dv, reu kyviv jvvdvu kf sv gcvekp fw kyzexj xfzex fe, reu Z’d r nvrckyp sziu, jf vmvipkyzex nrj wzev. Tyrggzvj zekifultvu dv kf fkyvi tyrggzvj, reu jf fe reu jf wfiky, reu zk nrje’k cfex svwfiv Z bevn jhlruj fw kyv izxyk jfik, jfdv nyf ifccvu ze ufccrij ze yfljvj lg sp kyv Grib, reu fkyvij nyf czmvu nzky kyv xrj klievu ufne dfjkcp rifleu Nrjyzexkfe Jhlriv–rikzjkj reu nizkvij reu jf wfiky. Sirzep tfmvj.\"\n",
        "plaintext = \"I first got to know Corky when I came to New York. He was a pal of my cousin Gussie, who was in with a lot of people down Washington Square way. I don’t know if I ever told you about it, but the reason why I left England was because I was sent over by my Aunt Agatha to try to stop young Gussie marrying a girl on the vaudeville stage, and I got the whole thing so mixed up that I decided that it would be a sound scheme for me to stop on in America for a bit instead of going back and having long cosy chats about the thing with aunt. So I sent Jeeves out to find a decent apartment, and settled down for a bit of exile. I’m bound to say that New York’s a topping place to be exiled in. Everybody was awfully good to me, and there seemed to be plenty of things going on, and I’m a wealthy bird, so everything was fine. Chappies introduced me to other chappies, and so on and so forth, and it wasn’t long before I knew squads of the right sort, some who rolled in dollars in houses up by the Park, and others who lived with the gas turned down mostly around Washington Square–artists and writers and so forth. Brainy coves.\"\n",
        "\n",
        "#CaesarShift(ciphertext, 9) #Returns decrypted text\n",
        "#CaesarShift(plaintext, 17) #Returns encrypted text"
      ]
    },
    {
      "cell_type": "code",
      "source": [
        "def AffineShift(text, a, b, m): #Can be used to both encrypt to or decrypt from Affine cipher\n",
        "  textlist = list(text) #Converting given text to list of characters to assign an index to each character\n",
        "  affine_shift = \"\" #Will collect text after list has been Caesar shifted\n",
        "  natural_order = [\"a\", \"b\", \"c\", \"d\", \"e\", \"f\", \"g\", \"h\", \"i\" , \"j\", \"k\", \"l\", \"m\", \"n\", \"o\", \"p\", \"q\", \"r\", \"s\", \"t\", \"u\", \"v\", \"w\", \"x\", \"y\", \"z\"]\n",
        "\n",
        "  for character in textlist:\n",
        "    if character.lower() in natural_order: #Alphabet characters enter here for Caesar shifting; comparison to natural_order using lower-case\n",
        "      if character == character.lower(): #Separating lower and uppercase alphabets\n",
        "        affine_shift += natural_order[(a*natural_order.index(character) + b) % m]\n",
        "      else:\n",
        "        affine_shift += natural_order[(a*natural_order.index(character.lower()) + b) % m].upper()\n",
        "    else: #Non-alphabets characters enter here to come out unchanged\n",
        "      affine_shift += character\n",
        "\n",
        "  print(affine_shift)"
      ],
      "metadata": {
        "id": "KzaeZBaEFkfD"
      },
      "execution_count": null,
      "outputs": []
    },
    {
      "cell_type": "code",
      "source": [
        "ciphertext = \"GJ QLFLA BQ NROLNERE LQ L MTBVD GJIBFR ALNE WJNDBHO LHE SLVSBVLF KFLYRN WBSA OJJE SRVAHBMTR\"\n",
        "AffineShift(ciphertext, 2, 3, 26)\n",
        "\n",
        "file1 = open(\"/content/List of English Words.csv\")\n",
        "word_list = list(csv.reader(file1))\n",
        "file1.close()\n",
        "eight_letter_word_list = []\n",
        "nine_letter_word_list = []\n",
        "four_letter_word_list = []\n",
        "three_letter_word_list = []\n",
        "eight_letter_candidates = []\n",
        "nine_letter_candidates = []\n",
        "four_letter_candidates = []\n",
        "three_letter_candidates = []\n",
        "\n",
        "for word in word_list:\n",
        "  if len(word[0]) == 8:\n",
        "    eight_letter_word_list.append(word[0])\n",
        "  elif len(word[0]) == 9:\n",
        "    nine_letter_word_list.append(word[0])\n",
        "  elif len(word[0]) == 4:\n",
        "    four_letter_word_list.append(word[0])\n",
        "  elif len(word[0]) == 3:\n",
        "    three_letter_word_list.append(word[0])\n",
        "\n",
        "\n",
        "\n",
        "for word in eight_letter_word_list:\n",
        "  if (word[0] == word[3]) and (word[1] == word[6]) and (word[2] == word[5]):\n",
        "    eight_letter_candidates.append(word)\n",
        "\n",
        "for word in nine_letter_word_list:\n",
        "  if (word[1] == word[8]) and (word[8] == \"e\") and (word[8] == \"e\"):\n",
        "    if len(word) - 1 == len(set(word)):\n",
        "      nine_letter_candidates.append(word)\n",
        "\n",
        "for word in four_letter_word_list:\n",
        "  if (word[1] == word[2]) and (word[3] == \"d\"):\n",
        "    if len(word) - 1 == len(set(word)):\n",
        "      four_letter_candidates.append(word)\n",
        "\n",
        "for word in three_letter_word_list:\n",
        "  if (word[0] == \"a\") and (word[2] == \"d\"):\n",
        "      three_letter_candidates.append(word)\n",
        "\n",
        "eight_letter_candidates\n",
        "#nine_letter_candidates\n",
        "#four_letter_candidates\n",
        "#three_letter_candidates\n"
      ],
      "metadata": {
        "colab": {
          "base_uri": "https://localhost:8080/"
        },
        "id": "dhO-M6NQ3vl2",
        "outputId": "6a46ee19-b67a-4d1f-eac6-457b9952c8a0"
      },
      "execution_count": null,
      "outputs": [
        {
          "output_type": "stream",
          "name": "stdout",
          "text": [
            "PV JZNZD FJ DLFZDLLL ZJ Z BPFTJ PVTFNL DZDL VVDJFRF ZRL NZTNFTZN XNZZLD VFND FVVL NLTDRFBPL\n"
          ]
        }
      ]
    }
  ]
}