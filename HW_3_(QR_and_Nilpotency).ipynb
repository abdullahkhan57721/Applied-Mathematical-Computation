{
  "nbformat": 4,
  "nbformat_minor": 0,
  "metadata": {
    "colab": {
      "provenance": [],
      "authorship_tag": "ABX9TyNSwLbss6uZVS5oka7E6V0W",
      "include_colab_link": true
    },
    "kernelspec": {
      "name": "python3",
      "display_name": "Python 3"
    },
    "language_info": {
      "name": "python"
    }
  },
  "cells": [
    {
      "cell_type": "markdown",
      "metadata": {
        "id": "view-in-github",
        "colab_type": "text"
      },
      "source": [
        "<a href=\"https://colab.research.google.com/github/abdullahkhan57721/Applied-Mathematical-Computation/blob/main/HW_3_(QR_and_Nilpotency).ipynb\" target=\"_parent\"><img src=\"https://colab.research.google.com/assets/colab-badge.svg\" alt=\"Open In Colab\"/></a>"
      ]
    },
    {
      "cell_type": "code",
      "execution_count": null,
      "metadata": {
        "id": "XiLp-7fknEDQ"
      },
      "outputs": [],
      "source": [
        "#Introduction to Applied Mathematical Computation\n",
        "#HW-3\n",
        "#Abdullah Khan"
      ]
    },
    {
      "cell_type": "code",
      "source": [
        "import sympy as sym\n",
        "from scipy import linalg as lin\n",
        "import numpy as np"
      ],
      "metadata": {
        "id": "lM0QgaJkpf_H"
      },
      "execution_count": null,
      "outputs": []
    },
    {
      "cell_type": "code",
      "source": [
        "#Question 3(a)\n",
        "\n",
        "#First, we construct a function that inputs an nxn matrix A and a tolerance t to come up with the eigenvalues of A\n",
        "#so that the max difference between the eigenvalues of A_{k-1} and A_k is no more than the tolerance t.\n",
        "\n",
        "def QREigenvalues(A, t=0.000000000000001): #A is the nxn matrix and the tolerance t is the maximum difference between eigenvalues of consecutive steps at which to terminate the QR algorith; default tolerance is e-15 unless otherwise specified\n",
        "\n",
        "  A_new = A #Initializes A_new which updates at each iteration of the algorithm\n",
        "  eigenvalues = list(range(len(A))) #Initializes a list of n eigenvalues (of the (k-1)^th step)\n",
        "  new_eigenvalues = list(range(len(A))) #Initializes a list of n new_eigenvalues (of the k^th step)\n",
        "  difference = list(range(len(A))) #Initializes a list that will perform pairwise eigenvalue subtractions between the (k-1)^th step and k^th step\n",
        "  max_difference = t+1 #Initializes a variable that will keep track of the max absolute difference between the eigenvalues of (k-1)^th step and k^th step; initialized at t+1 so the following loop intiatiates.\n",
        "\n",
        "  while max_difference > t:\n",
        "    #Records the eigenvalues of the (k-1)^th step (the diagonal entries)\n",
        "    for i in list(range(len(A_new))):\n",
        "      eigenvalues[i] = A_new[i][i]\n",
        "    #Performs the QR decomposition\n",
        "    QR = lin.qr(A_new)\n",
        "    Q = QR[0]\n",
        "    R = QR[1]\n",
        "    #Constructs A_k from the QR decomposition of A_(k-1)\n",
        "    A_new = np.dot(R,Q)\n",
        "    #Records the new eigenvalues of the k^th step (the diagonal entries)\n",
        "    for i in list(range(len(A))):\n",
        "      new_eigenvalues[i] = A_new[i][i]\n",
        "    #Takes pair-wise absolute difference of the old and new eigenvalues\n",
        "    for i in list(range(len(A))):\n",
        "      difference[i] = eigenvalues[i]-new_eigenvalues[i]\n",
        "      difference[i] = abs(difference[i])\n",
        "    #Finds the the maximum of these absolute value differences\n",
        "    max_difference = max(difference)\n",
        "\n",
        "  #Loop exists when the maximum difference of the converging diagonal entries of A_(k-1) and A_k settles to less than the tolerance t; estimated eigenvalues returned\n",
        "  return(new_eigenvalues)\n",
        "\n",
        "#Matrix A of part (a)\n",
        "A = [[2.8,1.6,-0.8],[2,3,-2],[2.8,-0.4,-0.8]]\n",
        "\n",
        "#Estimating its eigenvalues to a tolerance of 0.000000000000001!\n",
        "QREigenvalues(A, 0.000000000000001) #e-15 tolerance! Behold ma pawah x)"
      ],
      "metadata": {
        "colab": {
          "base_uri": "https://localhost:8080/"
        },
        "id": "aP4sojEXrUfm",
        "outputId": "c9607ee6-884f-47e0-e9a9-1d5b660b4500"
      },
      "execution_count": null,
      "outputs": [
        {
          "output_type": "execute_result",
          "data": {
            "text/plain": [
              "[3.9995119836723982, 2.0007320857607267, -1.0002440694331247]"
            ]
          },
          "metadata": {},
          "execution_count": 83
        }
      ]
    },
    {
      "cell_type": "code",
      "source": [
        "#Question 3(c)\n",
        "\n",
        "#The following in-built command returns an array of eigenvalues and an array (matrix) of the corresponding eigenvectors (organized by columns, NOT list of lists)\n",
        "lin.eig(A)\n",
        "#The eigenvalues found using the built-in eig() function match the ones estimated in 3(a) closely, and so does the eigenvector (upto an overall negative) corresponding to eigenvalue 4 (look at column 3)"
      ],
      "metadata": {
        "colab": {
          "base_uri": "https://localhost:8080/"
        },
        "id": "Ye1YoWwck3zM",
        "outputId": "8c75a225-f3a1-4e01-f447-0586e013d37a"
      },
      "execution_count": null,
      "outputs": [
        {
          "output_type": "execute_result",
          "data": {
            "text/plain": [
              "(array([ 1.61168440e+01+0.j, -1.11684397e+00+0.j, -1.30367773e-15+0.j]),\n",
              " array([[-0.23197069, -0.78583024,  0.40824829],\n",
              "        [-0.52532209, -0.08675134, -0.81649658],\n",
              "        [-0.8186735 ,  0.61232756,  0.40824829]]))"
            ]
          },
          "metadata": {},
          "execution_count": 76
        }
      ]
    },
    {
      "cell_type": "code",
      "source": [
        "#Question 4(b)\n",
        "\n",
        "def NilpotentChecker(A, KBOUND=1000): #A is an n by n matrix given as lists of lists (rows as list) and a maximum power KBOUND (default at e3) up to which A is raised to check for nilpotency\n",
        "  dimension = len(A) #Records the dimension of matrix A using the number of its rows (provided a square matrix has been provided)\n",
        "\n",
        "  #Constructing the zero matrix (I'm sure there are other compact ways of doing this, but I want to try to stick to the basics :) )\n",
        "  zeroMatrix = list(range(dimension)) #Initializes the right number of rows\n",
        "  for i in range(dimension): #Initializes the right number of columns\n",
        "    zeroMatrix[i] = list(range(dimension))\n",
        "  for i in range(dimension): #Refills zeroMatrix that has the right dimensions with all zero elements\n",
        "    for j in range(dimension):\n",
        "      zeroMatrix[i][j] = 0\n",
        "\n",
        "  power = 1 #Initializes a counter for the power to which the matrix A is raised\n",
        "  poweredA = A #Initializes the matrix that records the result of A raised to said power\n",
        "\n",
        "  while power <= KBOUND: #Main loop checks for the first power of A that makes it null; np.array used because np.dot() returns an array while zeroMatrix is a list of lists.\n",
        "    if np.array_equal(poweredA, zeroMatrix): #Exits loop as soon as a power of A becomes null\n",
        "      print(\"Nilpotent at k = \"+str(power)+\".\")\n",
        "      return True\n",
        "    power += 1\n",
        "    poweredA = np.dot(A, poweredA)\n",
        "\n",
        "  if power > KBOUND: #Catches matrices which haven't turned null when raised to all powers up to KBOUND\n",
        "    print(\"Checked k ≤ KBOUND and A^k is not the zero matrix\")\n",
        "    return False\n"
      ],
      "metadata": {
        "id": "ZJHPddbdrX3Q"
      },
      "execution_count": null,
      "outputs": []
    },
    {
      "cell_type": "code",
      "source": [
        "#Question 4(c)\n",
        "\n",
        "#Nilpotent matrices always have zero eigenvalues. Estimating eigenvalues using QR thus provides an alternative route to checking for nilpotency\n",
        "\n",
        "def QRNilpotentChecker(A, TOL=0.00001): #A is an n by n matrix given as list of lists (rows as list); TOL (default at e-5) is the maximum tolerable deviation of the largest eigenvalue from zero\n",
        "  dimension = len(A) #Record the dimension of matrix A using the number of its rows (provided a square matrix has been provided)\n",
        "  eigenvalues = QREigenvalues(A) #Calls the eigenvalues estimation via QR function constructed in question 3(a)\n",
        "  withinTolerance = 0 #Initializes a variable to record the number of eigenvalues within tolerance\n",
        "  for i in range(dimension): #\n",
        "    if abs(eigenvalues[i]) >  TOL:\n",
        "      print(\"The given matrix is not nilpotent within the given tolerance.\")\n",
        "      break\n",
        "    else:\n",
        "      withinTolerance += 1\n",
        "  if withinTolerance == dimension:\n",
        "    print(\"The given matrix is nilpotent within the given tolerance\")\n"
      ],
      "metadata": {
        "id": "VwL6T1ujSegi"
      },
      "execution_count": null,
      "outputs": []
    },
    {
      "cell_type": "code",
      "source": [
        "#Question 4(d)\n",
        "B = [[0,0,0],[1,0,0],[0,1,0]] #Nilpotent at third power\n",
        "C = [[1,0,0],[0,2,0],[0,0,3]] #Not a nilpotent matrix\n",
        "\n",
        "NilpotentChecker(B, 5) #Will show nilpotency at third power\n",
        "NilpotentChecker(B, 3) #Will show nilpotency at third power; KBOUND can be equal to the least power at which the the matrix nulls\n",
        "NilpotentChecker(B, 2) #Will fail; KBOUND too low\n",
        "NilpotentChecker(C, 10000) #Will fail; C not nilpotent (Thousandth power! Once again, behold ma pawah x))\n",
        "\n",
        "QRNilpotentChecker(B) #Will show nilpotency\n",
        "QRNilpotentChecker(C) #Will fail; C is not nilpotent\n"
      ],
      "metadata": {
        "colab": {
          "base_uri": "https://localhost:8080/"
        },
        "id": "QAiQaNitWGvp",
        "outputId": "dba38fd7-4bf9-4013-db2d-0f7237237af3"
      },
      "execution_count": null,
      "outputs": [
        {
          "output_type": "stream",
          "name": "stdout",
          "text": [
            "Nilpotent at k = 3.\n",
            "Nilpotent at k = 3.\n",
            "Checked k ≤ KBOUND and A^k is not the zero matrix\n",
            "Checked k ≤ KBOUND and A^k is not the zero matrix\n",
            "The given matrix is nilpotent within the given tolerance\n",
            "The given matrix is not nilpotent within the given tolerance.\n"
          ]
        }
      ]
    }
  ]
}