{
  "nbformat": 4,
  "nbformat_minor": 0,
  "metadata": {
    "colab": {
      "provenance": [],
      "authorship_tag": "ABX9TyNutG0mBsRXv0ld8dNcqA/X",
      "include_colab_link": true
    },
    "kernelspec": {
      "name": "python3",
      "display_name": "Python 3"
    },
    "language_info": {
      "name": "python"
    }
  },
  "cells": [
    {
      "cell_type": "markdown",
      "metadata": {
        "id": "view-in-github",
        "colab_type": "text"
      },
      "source": [
        "<a href=\"https://colab.research.google.com/github/abdullahkhan57721/Applied-Mathematical-Computation/blob/main/HW_2_(PLU_Decomposition).ipynb\" target=\"_parent\"><img src=\"https://colab.research.google.com/assets/colab-badge.svg\" alt=\"Open In Colab\"/></a>"
      ]
    },
    {
      "cell_type": "code",
      "execution_count": null,
      "metadata": {
        "id": "XiLp-7fknEDQ"
      },
      "outputs": [],
      "source": [
        "#Introduction to Applied Mathematical Computation\n",
        "#HW-2\n",
        "#Abdullah Khan"
      ]
    },
    {
      "cell_type": "code",
      "source": [
        "import sympy as sym\n",
        "from scipy import linalg as lin\n",
        "import numpy as np"
      ],
      "metadata": {
        "id": "lM0QgaJkpf_H"
      },
      "execution_count": null,
      "outputs": []
    },
    {
      "cell_type": "code",
      "source": [
        "#Question 2\n",
        "\n",
        "#The augmented matrix A can be written as:\n",
        "A = [[0,20,0,0,0,14],[20,0,48,20,16,92],[0,48,0,65,36,140.10],[0,20,65,0,35,87.75],[0,16,36,35,0,99.70]]\n",
        "\n",
        "#Using sympy's Matrix function, we first recast A as a sympy matrix. Next, we use the rref function, we compute the reduced row echelon form of matrix A.\n",
        "A = sym.Matrix(A)\n",
        "A.rref()"
      ],
      "metadata": {
        "colab": {
          "base_uri": "https://localhost:8080/"
        },
        "id": "aP4sojEXrUfm",
        "outputId": "acc5589e-ad55-4f3a-bdff-41dd7610e79e"
      },
      "execution_count": null,
      "outputs": [
        {
          "output_type": "execute_result",
          "data": {
            "text/plain": [
              "(Matrix([\n",
              " [1, 0, 0, 0, 0,  0.5],\n",
              " [0, 1, 0, 0, 0, 7/10],\n",
              " [0, 0, 1, 0, 0,  1.0],\n",
              " [0, 0, 0, 1, 0,  1.5],\n",
              " [0, 0, 0, 0, 1, 0.25]]), (0, 1, 2, 3, 4))"
            ]
          },
          "metadata": {},
          "execution_count": 4
        }
      ]
    },
    {
      "cell_type": "code",
      "source": [
        "#Question 3(b)\n",
        "\n",
        "#Let A be a square LU diagnalizable matrix. Then, L and U are both square matrices of the same dimension as A.\n",
        "#Passing L and U as list (rows) of lists (elements in each row) and b as a list, we construct the following function that outputs the solution x to Ax = b.\n",
        "def LUDecompSolution(L, U, b):\n",
        "  #Determine the dimension of the solution space (and thereby the dimensions of L and U for Ax=b to be meaningful)\n",
        "  n = len(b)\n",
        "  #We solve for y in Ly=b. First, initialize a list y with the correct dimension and then we use the starred equation from page 6 of the notes.\n",
        "  y = list(range(n))\n",
        "  for k in list(range(0,n)):\n",
        "    y[k] = b[k] #First term (first row)\n",
        "    for i in list(range(0, k)): #Subtracting the summation with indices adjusted to start at 0\n",
        "      y[k] = y[k] - (L[k][i]*y[i]) #Computing y[k] in increasing order of indices\n",
        "      y[k] = y[k]/L[k][k] #Final division\n",
        "\n",
        "  #Using the second starred equation from page 7 of the notes, we solve for x in Ax=b\n",
        "  #Once again, we start by initializing a list x with the correct dimension.\n",
        "  x = list(range(n))\n",
        "  for k in range(0,n):\n",
        "    x[n-1-k] = y[n-1-k] #First term (last row)\n",
        "    for i in range (n-k, n):\n",
        "      x[n-1-k] = x[n-1-k] - U[n-1-k][i]*x[i] #Computing x[k] in decreasing order of indices\n",
        "    x[n-1-k] = x[n-1-k]/U[n-1-k][n-1-k] #Final division\n",
        "  print(x)\n",
        "\n",
        "#As a check, we use the b from part (a) to solve for x.\n",
        "L = [[1,0,0,0],[-1,1,0,0],[2,-5,1,0],[-3,8,3,1]]\n",
        "U = [[3,-7,-2,2],[0,-2,-1,2],[0,0,-1,1],[0,0,0,-1]]\n",
        "b = [-9,5,7,11]\n",
        "LUDecompSolution(L,U,b)\n",
        "\n",
        "#For the b given in subparts (i) and (ii):\n",
        "b_1 = [-1,1,6,3]\n",
        "b_2 = [2,4,2,-1]\n",
        "LUDecompSolution(L,U,b_1)\n",
        "LUDecompSolution(L,U,b_2)"
      ],
      "metadata": {
        "colab": {
          "base_uri": "https://localhost:8080/"
        },
        "id": "Ye1YoWwck3zM",
        "outputId": "b0c8250c-bfb4-4f8e-c3ff-674f31f4d2f3"
      },
      "execution_count": null,
      "outputs": [
        {
          "output_type": "stream",
          "name": "stdout",
          "text": [
            "[3.0, 4.0, -6.0, -1.0]\n",
            "[31.666666666666668, 16.0, 16.0, 24.0]\n",
            "[155.83333333333334, 74.5, 99.0, 127.0]\n"
          ]
        }
      ]
    },
    {
      "cell_type": "code",
      "source": [
        "#Question 4(a)\n",
        "\n",
        "#We find the PLU decomposition using scipy's lu function.\n",
        "\n",
        "A = [[1,0,4,2],[-1,1,8,0],[-4,2,5,1],[0,2,-3,1]]\n",
        "B = lin.lu(A) #Saving the returned (P,L,U) array to B\n",
        "P_inv = B[0] #Saving P as P_inv so that PA = LU\n",
        "P = lin.inv(P_inv) #Inverting P_inv to the correct P in PA = LU\n",
        "L = B[1]\n",
        "U = B[2]\n",
        "\n",
        "print(P)\n",
        "print(L)\n",
        "print(U)"
      ],
      "metadata": {
        "colab": {
          "base_uri": "https://localhost:8080/"
        },
        "id": "ZJHPddbdrX3Q",
        "outputId": "c88f3a7f-752b-4364-fcf3-1b9eb724f6b6"
      },
      "execution_count": null,
      "outputs": [
        {
          "output_type": "stream",
          "name": "stdout",
          "text": [
            "[[-0.  0.  1. -0.]\n",
            " [-0.  0.  0.  1.]\n",
            " [-0.  1.  0.  0.]\n",
            " [ 1.  0.  0.  0.]]\n",
            "[[ 1.    0.    0.    0.  ]\n",
            " [-0.    1.    0.    0.  ]\n",
            " [ 0.25  0.25  1.    0.  ]\n",
            " [-0.25  0.25  0.8   1.  ]]\n",
            "[[-4.   2.   5.   1. ]\n",
            " [ 0.   2.  -3.   1. ]\n",
            " [ 0.   0.   7.5 -0.5]\n",
            " [ 0.   0.   0.   2.4]]\n"
          ]
        }
      ]
    },
    {
      "cell_type": "code",
      "source": [
        "#Question 4(b)\n",
        "\n",
        "#Inputting the various matrices\n",
        "A = [[1,0,4,2],[-1,1,8,0],[-4,2,5,1],[0,2,-3,1]]\n",
        "P_inv = [[0., 0., 0., 1.],\n",
        "      [0., 0., 1., 0.],\n",
        "      [1., 0., 0., 0.],\n",
        "      [0., 1., 0., 0.]]\n",
        "P = lin.inv(P_inv)\n",
        "L = [[ 1.  ,  0.  ,  0.  ,  0.  ],\n",
        "        [-0.  ,  1.  ,  0.  ,  0.  ],\n",
        "        [ 0.25,  0.25,  1.  ,  0.  ],\n",
        "        [-0.25,  0.25,  0.8 ,  1.  ]]\n",
        "U = [[-4. ,  2. ,  5. ,  1. ],\n",
        "        [ 0. ,  2. , -3. ,  1. ],\n",
        "        [ 0. ,  0. ,  7.5, -0.5],\n",
        "        [ 0. ,  0. ,  0. ,  2.4]]\n",
        "\n",
        "#Mulitlying the matrices\n",
        "PA = np.dot(P,A)\n",
        "LU = np.dot(L,U)\n",
        "\n",
        "#Printing PA and LU to verify that they are equal.\n",
        "print(PA)\n",
        "print(LU)\n",
        "\n",
        "#They are indeed equal."
      ],
      "metadata": {
        "id": "VwL6T1ujSegi"
      },
      "execution_count": null,
      "outputs": []
    },
    {
      "cell_type": "code",
      "source": [
        "#Question 4(c)\n",
        "b_old = [31,30,21,-7]\n",
        "c_old = [1545,-70,816,868]\n",
        "\n",
        "#We multiply each b_i with P\n",
        "b_new = np.dot(P, b_old)\n",
        "c_new = np.dot(P, c_old)\n",
        "\n",
        "#Lastly, we solve Ax = b as PA x = Pb or LU x = (Pb).\n",
        "z_1 = LUDecompSolution(L, U, b_new)\n",
        "z_2 = LUDecompSolution(L, U, c_new)"
      ],
      "metadata": {
        "colab": {
          "base_uri": "https://localhost:8080/"
        },
        "id": "QAiQaNitWGvp",
        "outputId": "cb1478ff-802a-4db5-f986-45ffc984815a"
      },
      "execution_count": null,
      "outputs": [
        {
          "output_type": "stream",
          "name": "stdout",
          "text": [
            "[0.9999999999999998, -0.9999999999999996, 4.0, 6.999999999999999]\n",
            "[-11.0, 15.0, -12.0, 802.0]\n"
          ]
        }
      ]
    }
  ]
}