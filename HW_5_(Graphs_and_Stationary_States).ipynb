{
  "nbformat": 4,
  "nbformat_minor": 0,
  "metadata": {
    "colab": {
      "provenance": [],
      "authorship_tag": "ABX9TyMfhmMPA3URI14H5l7TDpJ6",
      "include_colab_link": true
    },
    "kernelspec": {
      "name": "python3",
      "display_name": "Python 3"
    },
    "language_info": {
      "name": "python"
    }
  },
  "cells": [
    {
      "cell_type": "markdown",
      "metadata": {
        "id": "view-in-github",
        "colab_type": "text"
      },
      "source": [
        "<a href=\"https://colab.research.google.com/github/abdullahkhan57721/Applied-Mathematical-Computation/blob/main/HW_5_(Graphs_and_Stationary_States).ipynb\" target=\"_parent\"><img src=\"https://colab.research.google.com/assets/colab-badge.svg\" alt=\"Open In Colab\"/></a>"
      ]
    },
    {
      "cell_type": "code",
      "execution_count": null,
      "metadata": {
        "colab": {
          "base_uri": "https://localhost:8080/",
          "height": 89
        },
        "id": "jLzW-4YdGUBC",
        "outputId": "e8a920bc-6bd6-4260-ae72-cf9bfb4b2536"
      },
      "outputs": [
        {
          "output_type": "stream",
          "name": "stdout",
          "text": [
            "Nodes: 1 2 3 4 5 6 7 8 9 10 \n",
            "Links: (1, 10) (1, 5) (2, 7) (3, 4) (4, 3) (5, 2) (5, 5) (5, 7) (6, 9) (7, 5) (8, 8) (8, 5) (8, 6) (9, 5) (10, 4) (10, 5) \n"
          ]
        },
        {
          "output_type": "execute_result",
          "data": {
            "text/plain": [
              "'\\nNow you should check your estimated importance vector against the (left) eigenvector corresponding to eigenvalue 1 (make sure you find the correct scalar mult of the eigenvector!)\\n'"
            ],
            "application/vnd.google.colaboratory.intrinsic+json": {
              "type": "string"
            }
          },
          "metadata": {},
          "execution_count": 1
        }
      ],
      "source": [
        "import numpy as np\n",
        "import scipy as scp\n",
        "import random\n",
        "\n",
        "# Let's build a graph class\n",
        "class Graph(object):\n",
        "\n",
        "    def __init__(self, graph_dict=None):\n",
        "        \"\"\"\n",
        "        Initialise a graph object\n",
        "\n",
        "        If no dictionary is supplied, then we begin with the empty dict\n",
        "\n",
        "        We suppose the the dictionary keys are the nodes of the graph,\n",
        "        and the values of the dict are the nodes that the key node links to, e.g. if\n",
        "\n",
        "        graph_dict = { \"p1\": {\"p1\", \"p3\", \"p4\"}, \"p2: {\"p2\"}, \"p3\": {\"p1\", \"p2\"}, \"p4\": {\"p3\"} }\n",
        "\n",
        "        then there are 4 nodes and node p2 only has a link to itself, but is linked from p3\n",
        "        \"\"\"\n",
        "        if graph_dict == None:\n",
        "            graph_dict = {}\n",
        "        self._graph_dict = graph_dict\n",
        "\n",
        "    '''\n",
        "    Let's create the edges between nodes\n",
        "    '''\n",
        "    def links(self, node):\n",
        "        \"\"\"\n",
        "        Can get all the nodes linked from a given node\n",
        "\n",
        "        Returns the set of such nodes using the supplied (or empty) graph_dict\n",
        "        \"\"\"\n",
        "        return self._graph_dict[node]\n",
        "\n",
        "    '''\n",
        "    Also useful to record a list of all nodes:\n",
        "    '''\n",
        "    def nodes(self):\n",
        "        \"\"\"\n",
        "        Returns the set of all nodes\n",
        "        \"\"\"\n",
        "        return set(self._graph_dict.keys())\n",
        "\n",
        "    def all_links(self):\n",
        "        \"\"\"\n",
        "        Returns all the links in the graph\n",
        "        \"\"\"\n",
        "        return self.__generate_links()\n",
        "\n",
        "    def __generate_links(self):\n",
        "        \"\"\"\n",
        "        Links are two vertices A, B where A->B\n",
        "\n",
        "        (B can equal A if A has a self-link)\n",
        "        \"\"\"\n",
        "        links = []\n",
        "        for node in self._graph_dict:\n",
        "            for link in self._graph_dict[node]:\n",
        "                links.append((node, link))\n",
        "        return links\n",
        "\n",
        "    def __iter__(self):\n",
        "        # We can iteratively move through the dict\n",
        "        self._iter_obj = iter(self._graph_dict)\n",
        "        return self._iter_obj\n",
        "\n",
        "    def __next__(self):\n",
        "        \"\"\"\n",
        "        We can iterate over the nodes\n",
        "        \"\"\"\n",
        "        return next(self.__iter__())\n",
        "\n",
        "    def __str__(self):\n",
        "        '''\n",
        "        This just lets us print the connections nicely\n",
        "        '''\n",
        "        nice_print = \"Nodes: \"\n",
        "        for key in self._graph_dict:\n",
        "            nice_print += str(key) + \" \"\n",
        "        nice_print += \"\\nLinks: \"\n",
        "        for link in self.__generate_links():\n",
        "            nice_print += str(link) + \" \"\n",
        "        return nice_print\n",
        "\n",
        "# The dictionary corresponding to the picture in the homework is\n",
        "a5_dict = {1:{5,10}, 2:{7}, 3:{4}, 4:{3}, 5:{2, 5, 7}, 6:{9}, 7:{5}, 8:{5, 6, 8}, 9:{5}, 10:{4, 5}}\n",
        "\n",
        "\n",
        "# Create the graph\n",
        "graph = Graph(a5_dict)\n",
        "\n",
        "# Check the connections:\n",
        "print(graph.__str__())\n",
        "\n",
        "# Or just look at the nodes\n",
        "graph.nodes()\n",
        "\n",
        "# Or maybe we're interested in all the links\n",
        "graph.all_links()\n",
        "\n",
        "# Or perhaps just the links from a particular node\n",
        "graph.links(1)\n",
        "\n",
        "'''\n",
        "Now we have the graph, we can simulate the MC on the nodes.\n",
        "\n",
        "We will use the coin flip model.\n",
        "'''\n",
        "\n",
        "F = 0.85\n",
        "\n",
        "e = (1-F)/float(len(graph.nodes()))\n",
        "\n",
        "'''\n",
        "Here's where you come in\n",
        "'''\n",
        "\n",
        "\n",
        "def PR_markov_chain(n_steps, graph, F):\n",
        "    '''\n",
        "    Write this function.\n",
        "\n",
        "    Pick a random node to start the chain with.\n",
        "    Then `flip' a biased coin (probability of heads is F).\n",
        "    If heads (1) then move to a uniformly chosen linked node from the current position\n",
        "    If tails (0) then move to a uniformly chosen node (linked or otherwise)\n",
        "    Append the new node and iterate n_steps times\n",
        "\n",
        "    Return the chain\n",
        "    '''\n",
        "    chain = []\n",
        "    coin_outcomes = [0,1]\n",
        "    for steps in range(n_steps):\n",
        "      current_node = int(np.random.choice(list(graph.nodes()), 1))\n",
        "      coin_flip = np.random.choice(coin_outcomes, p=[1-F, F])\n",
        "      if coin_flip == 0:\n",
        "        chain.append((np.random.choice(list(graph.nodes()), 1))[0])\n",
        "      else:\n",
        "        chain.append((np.random.choice(list(graph.links(current_node)), 1))[0])\n",
        "    return chain\n",
        "\n",
        "def PR_estimate_stationary_prob(n_steps, graph, F):\n",
        "    '''\n",
        "    This function should runs the MC from PR_markov_chain for n_steps and\n",
        "    return the proportion of the time that the chain is in each state.\n",
        "\n",
        "    This should approximate the importance vector.\n",
        "    '''\n",
        "    MC = PR_markov_chain(n_steps, graph, F)\n",
        "    importance_vector = [0,0,0,0,0,0,0,0,0,0]\n",
        "    for i in range(len(MC)):\n",
        "      node = MC[i]\n",
        "      importance_vector[(node-1)] += 1\n",
        "    return list(importance_vector/np.linalg.norm(importance_vector))\n",
        "\n",
        "'''\n",
        "Now you should check your estimated importance vector against the (left) eigenvector corresponding to eigenvalue 1 (make sure you find the correct scalar mult of the eigenvector!)\n",
        "'''\n"
      ]
    },
    {
      "cell_type": "markdown",
      "source": [],
      "metadata": {
        "id": "N7dhujHa0aKV"
      }
    },
    {
      "cell_type": "code",
      "source": [],
      "metadata": {
        "id": "8FSGGsM10Yja"
      },
      "execution_count": null,
      "outputs": []
    },
    {
      "cell_type": "code",
      "source": [],
      "metadata": {
        "id": "KKRLQjmM0Y36"
      },
      "execution_count": null,
      "outputs": []
    },
    {
      "cell_type": "markdown",
      "source": [],
      "metadata": {
        "id": "efv-5mTb0Y_Y"
      }
    },
    {
      "cell_type": "markdown",
      "source": [],
      "metadata": {
        "id": "fFHOOOSlyrJX"
      }
    },
    {
      "cell_type": "code",
      "source": [],
      "metadata": {
        "id": "Axw4lzhOyrnV"
      },
      "execution_count": null,
      "outputs": []
    },
    {
      "cell_type": "code",
      "source": [
        "PR_markov_chain(5, graph, F)"
      ],
      "metadata": {
        "colab": {
          "base_uri": "https://localhost:8080/"
        },
        "id": "K5adoDYqPBRq",
        "outputId": "e24c899c-0b3f-4b7a-ca55-bc5ab52af38b"
      },
      "execution_count": null,
      "outputs": [
        {
          "output_type": "execute_result",
          "data": {
            "text/plain": [
              "[5, 5, 4, 3, 7]"
            ]
          },
          "metadata": {},
          "execution_count": 2
        }
      ]
    },
    {
      "cell_type": "code",
      "source": [
        "PR_estimate_stationary_prob(100000, graph, F)"
      ],
      "metadata": {
        "colab": {
          "base_uri": "https://localhost:8080/"
        },
        "id": "dPRRJ-ezU-Xk",
        "outputId": "38f5c5bf-e3b2-41f7-d650-9b81b6ee980a"
      },
      "execution_count": null,
      "outputs": [
        {
          "output_type": "execute_result",
          "data": {
            "text/plain": [
              "[0.03692277688186759,\n",
              " 0.1040638682202865,\n",
              " 0.24193944982292334,\n",
              " 0.34105937992382196,\n",
              " 0.7843497534480598,\n",
              " 0.10440150301868373,\n",
              " 0.3112992841222383,\n",
              " 0.10522147324336269,\n",
              " 0.24480934560929973,\n",
              " 0.13761029711818187]"
            ]
          },
          "metadata": {},
          "execution_count": 3
        }
      ]
    }
  ]
}